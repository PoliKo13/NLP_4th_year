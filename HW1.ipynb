{
 "cells": [
  {
   "cell_type": "markdown",
   "metadata": {},
   "source": [
    "Новости были взяты с сайта https://www.livejournal.com/media\n",
    "\n",
    "В качестве ключевых слов использовались теги под статьёй"
   ]
  },
  {
   "cell_type": "code",
   "execution_count": 1,
   "metadata": {},
   "outputs": [],
   "source": [
    "# импорты\n",
    "import pandas as pd\n",
    "import RAKE\n",
    "from summa import keywords\n",
    "from keybert import KeyBERT\n",
    "import nltk\n",
    "from pymorphy2 import MorphAnalyzer\n",
    "from pymorphy2.tokenizers import simple_word_tokenize\n",
    "from nltk.corpus import stopwords\n",
    "\n",
    "stop = stopwords.words('russian')"
   ]
  },
  {
   "cell_type": "markdown",
   "metadata": {},
   "source": [
    "Функции"
   ]
  },
  {
   "cell_type": "code",
   "execution_count": 2,
   "metadata": {},
   "outputs": [],
   "source": [
    "m = MorphAnalyzer()\n",
    "def normalize_text(text):\n",
    "    lemmas = []\n",
    "    for t in simple_word_tokenize(text):\n",
    "        lemmas.append(\n",
    "            m.parse(t)[0].normal_form\n",
    "        )\n",
    "    return ' '.join(lemmas)"
   ]
  },
  {
   "cell_type": "code",
   "execution_count": 3,
   "metadata": {},
   "outputs": [],
   "source": [
    "def repair_tag(tag_list):\n",
    "    for tag in range(len(tag_list)):\n",
    "        if tag_list[tag] in ['ADJS', 'ADJF']:\n",
    "            tag_list[tag] = 'ADJ'\n",
    "        if tag_list[tag] in ['COMP', 'PRED']:\n",
    "            tag_list[tag] = 'ADVB'\n",
    "        if tag_list[tag] in ['INFN', 'PRTF', 'PRTS', 'GRND']:\n",
    "            tag_list[tag] = 'VERB'\n",
    "            \n",
    "    return tag_list"
   ]
  },
  {
   "cell_type": "code",
   "execution_count": 4,
   "metadata": {},
   "outputs": [],
   "source": [
    "def filtrate(kw_list, POS=[]):\n",
    "    filtered = kw_list\n",
    "    if POS != []:\n",
    "        filtered = []\n",
    "        for l in range(len(kw_list)):\n",
    "            if repair_tag([str(m.parse(w)[0].tag.POS) for w in kw_list[l].split(' ')]) == POS:\n",
    "                filtered += [kw_list[l]]\n",
    "    \n",
    "    return filtered"
   ]
  },
  {
   "cell_type": "code",
   "execution_count": 5,
   "metadata": {},
   "outputs": [],
   "source": [
    "def cross_count(pred, standart, POS=[]):\n",
    "    cross = list(set(filtrate(pred, POS)) & set(filtrate(standart, POS)))\n",
    "    return cross"
   ]
  },
  {
   "cell_type": "code",
   "execution_count": 6,
   "metadata": {},
   "outputs": [],
   "source": [
    "def count_metrics(result_kw, compare_kw, POS=[]):\n",
    "    texts_n = len(result_kw)\n",
    "    prec = 0\n",
    "    recall = 0\n",
    "    f1 = 0\n",
    "    for i in range(texts_n):\n",
    "        cross = cross_count(result_kw[i], compare_kw[i], POS)\n",
    "        print(cross)\n",
    "        prec += len(cross)/len(result_kw[i])\n",
    "        recall += len(cross)/len(compare_kw[i])\n",
    "        if prec+recall == 0:\n",
    "            pass\n",
    "        else:\n",
    "            f1 += 2*prec*recall/(prec+recall)\n",
    "    prec = prec/texts_n\n",
    "    recall = recall/texts_n\n",
    "    f1 = f1/texts_n\n",
    "    return (prec, recall, f1)"
   ]
  },
  {
   "cell_type": "markdown",
   "metadata": {},
   "source": [
    "Загружаем корпус, нормализуем тексты, соединяем ключевые слова в один список "
   ]
  },
  {
   "cell_type": "code",
   "execution_count": 7,
   "metadata": {},
   "outputs": [],
   "source": [
    "corpus = pd.read_csv(\"articles_kw.csv\", sep=\";\")"
   ]
  },
  {
   "cell_type": "code",
   "execution_count": 8,
   "metadata": {},
   "outputs": [],
   "source": [
    "corpus['Text'] = [normalize_text(t) for t in corpus['Text']]\n",
    "corpus['KeyWords'] = [normalize_text(t).split(' , ') for t in corpus['KeyWords']]\n",
    "corpus['MyWords'] = [normalize_text(t).split(' , ') for t in corpus['MyWords']]"
   ]
  },
  {
   "cell_type": "code",
   "execution_count": 9,
   "metadata": {
    "scrolled": true
   },
   "outputs": [
    {
     "data": {
      "text/html": [
       "<div>\n",
       "<style scoped>\n",
       "    .dataframe tbody tr th:only-of-type {\n",
       "        vertical-align: middle;\n",
       "    }\n",
       "\n",
       "    .dataframe tbody tr th {\n",
       "        vertical-align: top;\n",
       "    }\n",
       "\n",
       "    .dataframe thead th {\n",
       "        text-align: right;\n",
       "    }\n",
       "</style>\n",
       "<table border=\"1\" class=\"dataframe\">\n",
       "  <thead>\n",
       "    <tr style=\"text-align: right;\">\n",
       "      <th></th>\n",
       "      <th>Text</th>\n",
       "      <th>KeyWords</th>\n",
       "      <th>MyWords</th>\n",
       "    </tr>\n",
       "  </thead>\n",
       "  <tbody>\n",
       "    <tr>\n",
       "      <th>0</th>\n",
       "      <td>охота за кадр : какой выпускник мочь считаться...</td>\n",
       "      <td>[вуз, карьер, образование, работа, университет]</td>\n",
       "      <td>[выпускник, вуз, рейтинг, успешность]</td>\n",
       "    </tr>\n",
       "    <tr>\n",
       "      <th>1</th>\n",
       "      <td>слишком строгий воспитание сказаться на днк бе...</td>\n",
       "      <td>[воспитание, депрессия, ребёнок, днк, здоровье...</td>\n",
       "      <td>[днк, строгий воспитание, депрессия, метилиров...</td>\n",
       "    </tr>\n",
       "    <tr>\n",
       "      <th>2</th>\n",
       "      <td>опасный возраст : депрессия у девочека-подрост...</td>\n",
       "      <td>[девочка, депрессия, ребёнок, подросток, психо...</td>\n",
       "      <td>[депрессия, депрессивный состояние, девочка, п...</td>\n",
       "    </tr>\n",
       "    <tr>\n",
       "      <th>3</th>\n",
       "      <td>как темперамент ребёнок влиять на он успех в ш...</td>\n",
       "      <td>[образование, психология, темперамент, школа]</td>\n",
       "      <td>[темперамент, ребёнок, личность, школа, особен...</td>\n",
       "    </tr>\n",
       "    <tr>\n",
       "      <th>4</th>\n",
       "      <td>система поддержка , и почему травма так травми...</td>\n",
       "      <td>[поддержка, психологический помощь, психология...</td>\n",
       "      <td>[травма, ураган, человек, поддержка, психотравма]</td>\n",
       "    </tr>\n",
       "    <tr>\n",
       "      <th>5</th>\n",
       "      <td>как меняться мозг мужчина с появление ребёнок ...</td>\n",
       "      <td>[ребёнок, мозг, отцовство]</td>\n",
       "      <td>[отец, мозг, ребёнок, родительский поведение, ...</td>\n",
       "    </tr>\n",
       "  </tbody>\n",
       "</table>\n",
       "</div>"
      ],
      "text/plain": [
       "                                                Text  \\\n",
       "0  охота за кадр : какой выпускник мочь считаться...   \n",
       "1  слишком строгий воспитание сказаться на днк бе...   \n",
       "2  опасный возраст : депрессия у девочека-подрост...   \n",
       "3  как темперамент ребёнок влиять на он успех в ш...   \n",
       "4  система поддержка , и почему травма так травми...   \n",
       "5  как меняться мозг мужчина с появление ребёнок ...   \n",
       "\n",
       "                                            KeyWords  \\\n",
       "0    [вуз, карьер, образование, работа, университет]   \n",
       "1  [воспитание, депрессия, ребёнок, днк, здоровье...   \n",
       "2  [девочка, депрессия, ребёнок, подросток, психо...   \n",
       "3      [образование, психология, темперамент, школа]   \n",
       "4  [поддержка, психологический помощь, психология...   \n",
       "5                         [ребёнок, мозг, отцовство]   \n",
       "\n",
       "                                             MyWords  \n",
       "0              [выпускник, вуз, рейтинг, успешность]  \n",
       "1  [днк, строгий воспитание, депрессия, метилиров...  \n",
       "2  [депрессия, депрессивный состояние, девочка, п...  \n",
       "3  [темперамент, ребёнок, личность, школа, особен...  \n",
       "4  [травма, ураган, человек, поддержка, психотравма]  \n",
       "5  [отец, мозг, ребёнок, родительский поведение, ...  "
      ]
     },
     "execution_count": 9,
     "metadata": {},
     "output_type": "execute_result"
    }
   ],
   "source": [
    "corpus"
   ]
  },
  {
   "cell_type": "code",
   "execution_count": 10,
   "metadata": {},
   "outputs": [],
   "source": [
    "kw_compare = []\n",
    "for i in range(len(corpus)):\n",
    "    kw_compare += [list(set(corpus['KeyWords'][i] + corpus['MyWords'][i]))]"
   ]
  },
  {
   "cell_type": "markdown",
   "metadata": {},
   "source": [
    "Считаем через RAKE"
   ]
  },
  {
   "cell_type": "code",
   "execution_count": 11,
   "metadata": {},
   "outputs": [],
   "source": [
    "rake = RAKE.Rake(stop)"
   ]
  },
  {
   "cell_type": "code",
   "execution_count": 12,
   "metadata": {},
   "outputs": [],
   "source": [
    "kw_rake = []\n",
    "for i in range(len(corpus)):\n",
    "    kw_rake += [list(set([w[0] for w in rake.run(corpus['Text'][i], maxWords=2, minFrequency=2)]))]"
   ]
  },
  {
   "cell_type": "code",
   "execution_count": 13,
   "metadata": {},
   "outputs": [
    {
     "data": {
      "text/plain": [
       "['например',\n",
       " 'мочь',\n",
       " 'рейтинг',\n",
       " 'карьер',\n",
       " 'выпускник',\n",
       " 'кстати',\n",
       " 'успешность выпускник',\n",
       " 'хороший',\n",
       " 'кома']"
      ]
     },
     "execution_count": 13,
     "metadata": {},
     "output_type": "execute_result"
    }
   ],
   "source": [
    "kw_rake[0]"
   ]
  },
  {
   "cell_type": "code",
   "execution_count": 14,
   "metadata": {},
   "outputs": [
    {
     "name": "stdout",
     "output_type": "stream",
     "text": [
      "['выпускник', 'рейтинг', 'карьер']\n",
      "[]\n",
      "['подросток', 'родитель', 'депрессия', 'ребёнок']\n",
      "['ребёнок', 'школа']\n",
      "['человек', 'травма', 'ураган']\n",
      "['мозг', 'мужчина']\n"
     ]
    },
    {
     "data": {
      "text/plain": [
       "(0.17036490980799424, 0.30224867724867727, 0.7514663861329761)"
      ]
     },
     "execution_count": 14,
     "metadata": {},
     "output_type": "execute_result"
    }
   ],
   "source": [
    "count_metrics(kw_rake, kw_compare)"
   ]
  },
  {
   "cell_type": "code",
   "execution_count": 15,
   "metadata": {
    "scrolled": true
   },
   "outputs": [
    {
     "name": "stdout",
     "output_type": "stream",
     "text": [
      "['выпускник', 'рейтинг', 'карьер']\n",
      "[]\n",
      "['подросток', 'родитель', 'депрессия', 'ребёнок']\n",
      "['ребёнок', 'школа']\n",
      "['человек', 'травма', 'ураган']\n",
      "['мозг', 'мужчина']\n"
     ]
    },
    {
     "data": {
      "text/plain": [
       "(0.17036490980799424, 0.30224867724867727, 0.7514663861329761)"
      ]
     },
     "execution_count": 15,
     "metadata": {},
     "output_type": "execute_result"
    }
   ],
   "source": [
    "count_metrics(kw_rake, kw_compare, POS=['NOUN'])"
   ]
  },
  {
   "cell_type": "code",
   "execution_count": 16,
   "metadata": {},
   "outputs": [
    {
     "name": "stdout",
     "output_type": "stream",
     "text": [
      "[]\n",
      "[]\n",
      "[]\n",
      "[]\n",
      "[]\n",
      "[]\n"
     ]
    },
    {
     "data": {
      "text/plain": [
       "(0.0, 0.0, 0.0)"
      ]
     },
     "execution_count": 16,
     "metadata": {},
     "output_type": "execute_result"
    }
   ],
   "source": [
    "count_metrics(kw_rake, kw_compare, POS=['ADJ','NOUN'])"
   ]
  },
  {
   "cell_type": "code",
   "execution_count": 17,
   "metadata": {},
   "outputs": [
    {
     "data": {
      "text/plain": [
       "['выпускник', 'рейтинг', 'карьер']"
      ]
     },
     "execution_count": 17,
     "metadata": {},
     "output_type": "execute_result"
    }
   ],
   "source": [
    "list(set(kw_rake[0]) & set(kw_compare[0]))"
   ]
  },
  {
   "cell_type": "code",
   "execution_count": 18,
   "metadata": {},
   "outputs": [],
   "source": [
    "kw_text_rank = []\n",
    "for i in range(len(corpus)):\n",
    "    kw_text_rank += [list(set([w[0] for w in keywords.keywords(normalize_text(corpus['Text'][i]), language='russian', additional_stopwords=stop, scores=True)]))]"
   ]
  },
  {
   "cell_type": "code",
   "execution_count": 19,
   "metadata": {},
   "outputs": [
    {
     "data": {
      "text/plain": [
       "['влиять',\n",
       " 'право',\n",
       " 'специалист',\n",
       " 'человек',\n",
       " 'оксфорд достаточно',\n",
       " 'рыба',\n",
       " 'отрасль',\n",
       " 'особенно самый престижный',\n",
       " 'свой',\n",
       " 'наплевательск',\n",
       " 'правило',\n",
       " 'рейтинг',\n",
       " 'насколько',\n",
       " 'работодатель',\n",
       " 'студент причина',\n",
       " 'престижность',\n",
       " 'весь',\n",
       " 'доверять практически',\n",
       " 'субъективный',\n",
       " 'мор',\n",
       " 'каждый',\n",
       " 'mater',\n",
       " 'это',\n",
       " 'выдающийся',\n",
       " 'субъективность',\n",
       " 'сложиться ваш',\n",
       " 'несколько ключевой',\n",
       " 'например',\n",
       " 'предпочтение',\n",
       " 'специальность',\n",
       " 'абитуриент',\n",
       " 'относиться',\n",
       " 'совершенно',\n",
       " 'образование',\n",
       " 'отдельный',\n",
       " 'диплом',\n",
       " 'выпускник мочь',\n",
       " 'вековой',\n",
       " 'карьер',\n",
       " 'политехнический',\n",
       " 'кстати',\n",
       " 'процесс',\n",
       " 'хороший российский вуз']"
      ]
     },
     "execution_count": 19,
     "metadata": {},
     "output_type": "execute_result"
    }
   ],
   "source": [
    "kw_text_rank[0]"
   ]
  },
  {
   "cell_type": "code",
   "execution_count": 20,
   "metadata": {},
   "outputs": [
    {
     "name": "stdout",
     "output_type": "stream",
     "text": [
      "['образование', 'рейтинг', 'карьер']\n",
      "['родитель', 'метилирование', 'ребёнок', 'днк', 'наказание', 'строгий воспитание']\n",
      "['ребёнок', 'депрессия', 'девочка']\n",
      "['личность', 'школа', 'особенность']\n",
      "['человек', 'травма', 'психотравма', 'поддержка', 'ураган']\n",
      "['отец', 'ребёнок']\n"
     ]
    },
    {
     "data": {
      "text/plain": [
       "(0.09902786175262185, 0.4492063492063492, 0.5984593193024678)"
      ]
     },
     "execution_count": 20,
     "metadata": {},
     "output_type": "execute_result"
    }
   ],
   "source": [
    "count_metrics(kw_text_rank, kw_compare)"
   ]
  },
  {
   "cell_type": "code",
   "execution_count": 21,
   "metadata": {},
   "outputs": [
    {
     "name": "stdout",
     "output_type": "stream",
     "text": [
      "['образование', 'рейтинг', 'карьер']\n",
      "['родитель', 'метилирование', 'ребёнок', 'днк', 'наказание']\n",
      "['ребёнок', 'депрессия', 'девочка']\n",
      "['личность', 'школа', 'особенность']\n",
      "['человек', 'травма', 'психотравма', 'поддержка', 'ураган']\n",
      "['отец', 'ребёнок']\n"
     ]
    },
    {
     "data": {
      "text/plain": [
       "(0.09261760534236545, 0.43253968253968256, 0.5504447854746926)"
      ]
     },
     "execution_count": 21,
     "metadata": {},
     "output_type": "execute_result"
    }
   ],
   "source": [
    "count_metrics(kw_text_rank, kw_compare, POS=['NOUN'])"
   ]
  },
  {
   "cell_type": "code",
   "execution_count": 22,
   "metadata": {},
   "outputs": [
    {
     "name": "stdout",
     "output_type": "stream",
     "text": [
      "[]\n",
      "['строгий воспитание']\n",
      "[]\n",
      "[]\n",
      "[]\n",
      "[]\n"
     ]
    },
    {
     "data": {
      "text/plain": [
       "(0.006410256410256411, 0.016666666666666666, 0.0462962962962963)"
      ]
     },
     "execution_count": 22,
     "metadata": {},
     "output_type": "execute_result"
    }
   ],
   "source": [
    "count_metrics(kw_text_rank, kw_compare, POS=['ADJ','NOUN'])"
   ]
  },
  {
   "cell_type": "code",
   "execution_count": 23,
   "metadata": {},
   "outputs": [
    {
     "name": "stderr",
     "output_type": "stream",
     "text": [
      "c:\\users\\polina\\appdata\\local\\programs\\python\\python38\\lib\\site-packages\\transformers\\configuration_utils.py:369: UserWarning: Passing `gradient_checkpointing` to a config initialization is deprecated and will be removed in v5 Transformers. Using `model.gradient_checkpointing_enable()` instead, or if you are using the `Trainer` API, pass `gradient_checkpointing=True` in your `TrainingArguments`.\n",
      "  warnings.warn(\n"
     ]
    }
   ],
   "source": [
    "kw_model = KeyBERT('clips/mfaq')"
   ]
  },
  {
   "cell_type": "code",
   "execution_count": 24,
   "metadata": {
    "scrolled": false
   },
   "outputs": [],
   "source": [
    "kw_bert_1 = []\n",
    "for i in range(len(corpus)):\n",
    "    kw_bert_1 += [list(set([w[0] for w in kw_model.extract_keywords(corpus['Text'][i])]))]"
   ]
  },
  {
   "cell_type": "code",
   "execution_count": 25,
   "metadata": {},
   "outputs": [
    {
     "data": {
      "text/plain": [
       "['топ', 'престиж', 'рейтинг', 'престижность', 'заслуживать']"
      ]
     },
     "execution_count": 25,
     "metadata": {},
     "output_type": "execute_result"
    }
   ],
   "source": [
    "kw_bert_1[0]"
   ]
  },
  {
   "cell_type": "code",
   "execution_count": 26,
   "metadata": {},
   "outputs": [
    {
     "name": "stdout",
     "output_type": "stream",
     "text": [
      "['рейтинг']\n",
      "[]\n",
      "['депрессия', 'подросток']\n",
      "['психология']\n",
      "['поддержка']\n",
      "['отец', 'мозг']\n"
     ]
    },
    {
     "data": {
      "text/plain": [
       "(0.2333333333333333, 0.15806878306878305, 0.5413076960194714)"
      ]
     },
     "execution_count": 26,
     "metadata": {},
     "output_type": "execute_result"
    }
   ],
   "source": [
    "count_metrics(kw_bert_1, kw_compare)"
   ]
  },
  {
   "cell_type": "code",
   "execution_count": 27,
   "metadata": {},
   "outputs": [
    {
     "name": "stdout",
     "output_type": "stream",
     "text": [
      "['рейтинг']\n",
      "[]\n",
      "['депрессия', 'подросток']\n",
      "['психология']\n",
      "['поддержка']\n",
      "['отец', 'мозг']\n"
     ]
    },
    {
     "data": {
      "text/plain": [
       "(0.2333333333333333, 0.15806878306878305, 0.5413076960194714)"
      ]
     },
     "execution_count": 27,
     "metadata": {},
     "output_type": "execute_result"
    }
   ],
   "source": [
    "count_metrics(kw_bert_1, kw_compare, POS=['NOUN'])"
   ]
  },
  {
   "cell_type": "code",
   "execution_count": 28,
   "metadata": {},
   "outputs": [],
   "source": [
    "kw_bert_2 = []\n",
    "for i in range(len(corpus)):\n",
    "    kw_bert_2 += [list(set([w[0] for w in kw_model.extract_keywords(normalize_text(corpus['Text'][i]), keyphrase_ngram_range=(1, 2), stop_words=stop)]))]"
   ]
  },
  {
   "cell_type": "code",
   "execution_count": 29,
   "metadata": {
    "scrolled": true
   },
   "outputs": [
    {
     "name": "stdout",
     "output_type": "stream",
     "text": [
      "[]\n",
      "['строгий воспитание']\n",
      "[]\n",
      "[]\n",
      "[]\n",
      "[]\n"
     ]
    },
    {
     "data": {
      "text/plain": [
       "(0.03333333333333333, 0.016666666666666666, 0.1111111111111111)"
      ]
     },
     "execution_count": 29,
     "metadata": {},
     "output_type": "execute_result"
    }
   ],
   "source": [
    "count_metrics(kw_bert_2, kw_compare, POS=['ADJ', 'NOUN'])"
   ]
  },
  {
   "cell_type": "markdown",
   "metadata": {},
   "source": [
    "В конце концов оказалось достаточно сложно оценить качество выделения слов, потому что составленный стандарт далёк* от идеала... Однако достаточно очевидно, что на маленьких текстах с одной стороны \"значимых\" слов слишком много т.к. даже одно вхождение уже значимо, при этом слово действительно может чаще остальных встречаться и при этом быть не тематическим. Мне кажется можно попробовать заранее задавать большую тему одним-двумя словами и по какой-нибудь можели обученой на большом корпусе текстов с разной тематикой смотреть на сколько ключевое слово вообще связано с общей тематикой текста (с точки зрения их семантики вообще)\n",
    "\n",
    "*исходные теги в источнике были достаточно плохи, да и в ручную я совершила ошибку, не включив те же одиночные прилагательные, так что метрики здесь не могут показать значимого результата"
   ]
  },
  {
   "cell_type": "code",
   "execution_count": null,
   "metadata": {},
   "outputs": [],
   "source": []
  }
 ],
 "metadata": {
  "kernelspec": {
   "display_name": "Python 3",
   "language": "python",
   "name": "python3"
  },
  "language_info": {
   "codemirror_mode": {
    "name": "ipython",
    "version": 3
   },
   "file_extension": ".py",
   "mimetype": "text/x-python",
   "name": "python",
   "nbconvert_exporter": "python",
   "pygments_lexer": "ipython3",
   "version": "3.8.5"
  }
 },
 "nbformat": 4,
 "nbformat_minor": 4
}
